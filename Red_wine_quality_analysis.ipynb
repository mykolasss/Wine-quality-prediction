{
 "cells": [
  {
   "cell_type": "code",
   "execution_count": 1,
   "metadata": {},
   "outputs": [],
   "source": [
    "import numpy as np\n",
    "import pandas as pd\n",
    "import seaborn as sns\n",
    "from sklearn.preprocessing import RobustScaler\n",
    "from sklearn.linear_model import LogisticRegression\n",
    "from sklearn.neighbors import KNeighborsClassifier\n",
    "from sklearn.svm import SVC\n",
    "from sklearn.tree import DecisionTreeClassifier\n",
    "from sklearn.ensemble import RandomForestClassifier\n",
    "from sklearn.metrics import confusion_matrix, accuracy_score\n",
    "import matplotlib.pyplot as plt\n",
    "from sklearn.model_selection import train_test_split\n",
    "from sklearn.feature_selection import VarianceThreshold\n",
    "from sklearn.feature_selection import SelectKBest\n",
    "from sklearn.feature_selection import chi2\n",
    "from sklearn.ensemble import RandomForestClassifier"
   ]
  },
  {
   "cell_type": "code",
   "execution_count": 2,
   "metadata": {},
   "outputs": [],
   "source": [
    "#Importing dataset and separating train and target data\n",
    "df = pd.read_csv('WineQT.csv', index_col = 'Id')"
   ]
  },
  {
   "cell_type": "code",
   "execution_count": 3,
   "metadata": {},
   "outputs": [
    {
     "data": {
      "text/plain": [
       "Series([], dtype: float64)"
      ]
     },
     "execution_count": 3,
     "metadata": {},
     "output_type": "execute_result"
    }
   ],
   "source": [
    "#Check for null values\n",
    "df[df.columns[df.isnull().sum() > 0]].isna().mean()*100"
   ]
  },
  {
   "cell_type": "markdown",
   "metadata": {},
   "source": [
    "No null values in the dataset"
   ]
  },
  {
   "cell_type": "code",
   "execution_count": 4,
   "metadata": {},
   "outputs": [
    {
     "name": "stdout",
     "output_type": "stream",
     "text": [
      "12 12\n"
     ]
    }
   ],
   "source": [
    "#Check for low variance features\n",
    "vt = VarianceThreshold()\n",
    "print(len(pd.DataFrame(vt.fit_transform(df)).columns), len(df.columns))"
   ]
  },
  {
   "cell_type": "markdown",
   "metadata": {},
   "source": [
    "No low valence features"
   ]
  },
  {
   "cell_type": "code",
   "execution_count": 5,
   "metadata": {},
   "outputs": [
    {
     "data": {
      "text/plain": [
       "fixed acidity           0.121970\n",
       "volatile acidity       -0.407394\n",
       "citric acid             0.240821\n",
       "residual sugar          0.022002\n",
       "chlorides              -0.124085\n",
       "free sulfur dioxide    -0.063260\n",
       "total sulfur dioxide   -0.183339\n",
       "density                -0.175208\n",
       "pH                     -0.052453\n",
       "sulphates               0.257710\n",
       "alcohol                 0.484866\n",
       "quality                 1.000000\n",
       "Name: quality, dtype: float64"
      ]
     },
     "execution_count": 5,
     "metadata": {},
     "output_type": "execute_result"
    }
   ],
   "source": [
    "#Check the correlation of all features with the target variable\n",
    "df.corr()['quality']"
   ]
  },
  {
   "cell_type": "code",
   "execution_count": 6,
   "metadata": {},
   "outputs": [],
   "source": [
    "#Drop columns which have low correlation (<0.1) with target variable\n",
    "df = df.drop(['pH', 'residual sugar', 'free sulfur dioxide'], axis = 1)"
   ]
  },
  {
   "cell_type": "code",
   "execution_count": 7,
   "metadata": {},
   "outputs": [],
   "source": [
    "#Splitting data into train and test sets\n",
    "X = df.iloc[:, :-1].values\n",
    "y = df.iloc[:, -1].values\n",
    "X_train, X_test, y_train, y_test = train_test_split(X, y, test_size=0.20, random_state=42)"
   ]
  },
  {
   "cell_type": "code",
   "execution_count": 8,
   "metadata": {},
   "outputs": [],
   "source": [
    "#Scaling the data\n",
    "scaler = RobustScaler()\n",
    "X_train = scaler.fit_transform(X_train)\n",
    "X_test = scaler.transform(X_test)"
   ]
  },
  {
   "cell_type": "code",
   "execution_count": 9,
   "metadata": {},
   "outputs": [],
   "source": [
    "#Choosing classifier models\n",
    "models = [LogisticRegression(), KNeighborsClassifier(), SVC(), DecisionTreeClassifier(), RandomForestClassifier()]"
   ]
  },
  {
   "cell_type": "code",
   "execution_count": 10,
   "metadata": {},
   "outputs": [
    {
     "data": {
      "text/plain": [
       "['LogisticRegression score: 0.6331877729257642',\n",
       " 'KNeighborsClassifier score: 0.5545851528384279',\n",
       " 'SVC score: 0.6331877729257642',\n",
       " 'DecisionTreeClassifier score: 0.5458515283842795',\n",
       " 'RandomForestClassifier score: 0.6768558951965066']"
      ]
     },
     "execution_count": 10,
     "metadata": {},
     "output_type": "execute_result"
    }
   ],
   "source": [
    "#Fitting data\n",
    "results = []\n",
    "for model in models:\n",
    "    model.fit(X_train, y_train)\n",
    "    y_pred = model.predict(X_test)\n",
    "    results.append(str(model).replace(\"()\", \"\") + \" score: \" + str(accuracy_score(y_test, y_pred)))\n",
    "results"
   ]
  },
  {
   "cell_type": "markdown",
   "metadata": {},
   "source": [
    "The random forest classifier seemed to work the best for this data"
   ]
  },
  {
   "cell_type": "code",
   "execution_count": 11,
   "metadata": {},
   "outputs": [
    {
     "name": "stdout",
     "output_type": "stream",
     "text": [
      "[0.10000112 0.13346541 0.10788632 0.10943675 0.12719299 0.12556267\n",
      " 0.14811754 0.14833721] Index(['fixed acidity', 'volatile acidity', 'citric acid', 'chlorides',\n",
      "       'total sulfur dioxide', 'density', 'sulphates', 'alcohol', 'quality'],\n",
      "      dtype='object')\n"
     ]
    }
   ],
   "source": [
    "rf = RandomForestClassifier()\n",
    "print(rf.fit(X_train, y_train).feature_importances_, df.columns)"
   ]
  },
  {
   "cell_type": "markdown",
   "metadata": {},
   "source": [
    "All features seem to have similar importance"
   ]
  },
  {
   "cell_type": "code",
   "execution_count": 12,
   "metadata": {},
   "outputs": [
    {
     "data": {
      "text/plain": [
       "{'Number of components: 1': 0.4890829694323144,\n",
       " 'Number of components: 2': 0.5152838427947598,\n",
       " 'Number of components: 3': 0.6506550218340611,\n",
       " 'Number of components: 4': 0.6593886462882096,\n",
       " 'Number of components: 5': 0.6593886462882096,\n",
       " 'Number of components: 6': 0.6724890829694323,\n",
       " 'Number of components: 7': 0.6550218340611353,\n",
       " 'Number of components: 8': 0.6812227074235808}"
      ]
     },
     "execution_count": 12,
     "metadata": {},
     "output_type": "execute_result"
    }
   ],
   "source": [
    "#Let's try to apply PCA and see if it improves the score\n",
    "from sklearn.decomposition import PCA\n",
    "sar = {}\n",
    "for component in range(1, 9):\n",
    "    pca = PCA(n_components = component)\n",
    "    X_train_PCA = pca.fit_transform(X_train)\n",
    "    X_test_PCA = pca.transform(X_test)\n",
    "    model = RandomForestClassifier()\n",
    "    model.fit(X_train_PCA, y_train)\n",
    "    y_pred = model.predict(X_test_PCA)\n",
    "    acc = accuracy_score(y_test, y_pred)\n",
    "    sar.update({'Number of components: ' + str(component) : acc})\n",
    "sar"
   ]
  },
  {
   "cell_type": "code",
   "execution_count": 13,
   "metadata": {},
   "outputs": [
    {
     "data": {
      "text/plain": [
       "Text(0.5, 1.0, 'Model performance with PCA applied')"
      ]
     },
     "execution_count": 13,
     "metadata": {},
     "output_type": "execute_result"
    },
    {
     "data": {
      "image/png": "[encoded data removed]",
      "text/plain": [
       "<Figure size 864x432 with 1 Axes>"
      ]
     },
     "metadata": {
      "needs_background": "light"
     },
     "output_type": "display_data"
    }
   ],
   "source": [
    "from matplotlib.ticker import MaxNLocator\n",
    "ax = plt.figure(figsize=(12, 6)).gca()\n",
    "ax.xaxis.set_major_locator(MaxNLocator(integer=True))\n",
    "sns.lineplot(y = list(sar.values()), x = range(1, 9))\n",
    "plt.xlabel('Number of components')\n",
    "plt.ylabel('Accuracy')\n",
    "plt.title('Model performance with PCA applied')"
   ]
  },
  {
   "cell_type": "markdown",
   "metadata": {},
   "source": [
    "Best score with PCA applied was having 8 components, but it didn't seem to improve the score for our best model"
   ]
  },
  {
   "cell_type": "code",
   "execution_count": 14,
   "metadata": {},
   "outputs": [
    {
     "data": {
      "text/plain": [
       "{'Number of components: 1': 0.5458515283842795,\n",
       " 'Number of components: 2': 0.6462882096069869,\n",
       " 'Number of components: 3': 0.6855895196506551,\n",
       " 'Number of components: 4': 0.6593886462882096,\n",
       " 'Number of components: 5': 0.6899563318777293}"
      ]
     },
     "execution_count": 14,
     "metadata": {},
     "output_type": "execute_result"
    }
   ],
   "source": [
    "#Let's try to apply LDA and see if it improves the score\n",
    "from sklearn.discriminant_analysis import LinearDiscriminantAnalysis as LDA\n",
    "sar = {}\n",
    "for component in range(1, 6):\n",
    "    lda = LDA(n_components = component)\n",
    "    X_train_LDA = lda.fit_transform(X_train, y_train)\n",
    "    X_test_LDA = lda.transform(X_test)\n",
    "    model = RandomForestClassifier()\n",
    "    model.fit(X_train_LDA, y_train)\n",
    "    y_pred = model.predict(X_test_LDA)\n",
    "    acc = accuracy_score(y_test, y_pred)\n",
    "    sar.update({'Number of components: ' + str(component) : acc})\n",
    "sar"
   ]
  },
  {
   "cell_type": "code",
   "execution_count": 15,
   "metadata": {},
   "outputs": [
    {
     "data": {
      "text/plain": [
       "Text(0.5, 1.0, 'Model performance with LDA applied')"
      ]
     },
     "execution_count": 15,
     "metadata": {},
     "output_type": "execute_result"
    },
    {
     "data": {
      "image/png": "[encoded data removed]",
      "text/plain": [
       "<Figure size 864x432 with 1 Axes>"
      ]
     },
     "metadata": {
      "needs_background": "light"
     },
     "output_type": "display_data"
    }
   ],
   "source": [
    "ax = plt.figure(figsize=(12, 6)).gca()\n",
    "ax.xaxis.set_major_locator(MaxNLocator(integer=True))\n",
    "sns.lineplot(y = list(sar.values()), x = range(1, 6))\n",
    "plt.xlabel('Number of components')\n",
    "plt.ylabel('Accuracy')\n",
    "plt.title('Model performance with LDA applied')"
   ]
  },
  {
   "cell_type": "markdown",
   "metadata": {},
   "source": [
    "Along with PCA, the LDA doesn't seem to improve the score"
   ]
  },
  {
   "cell_type": "code",
   "execution_count": 16,
   "metadata": {},
   "outputs": [
    {
     "data": {
      "text/plain": [
       "{'Number of components: 1': 0.6812227074235808,\n",
       " 'Number of components: 2': 0.6812227074235808,\n",
       " 'Number of components: 3': 0.6593886462882096,\n",
       " 'Number of components: 4': 0.6768558951965066,\n",
       " 'Number of components: 5': 0.6593886462882096,\n",
       " 'Number of components: 6': 0.6812227074235808,\n",
       " 'Number of components: 7': 0.6681222707423581,\n",
       " 'Number of components: 8': 0.6812227074235808}"
      ]
     },
     "execution_count": 16,
     "metadata": {},
     "output_type": "execute_result"
    }
   ],
   "source": [
    "#Let's try to apply Kernel PCA and see if it improves the score\n",
    "from sklearn.decomposition import KernelPCA\n",
    "sar = {}\n",
    "for component in range(1, 9):\n",
    "    kpca = KernelPCA(n_components = component, kernel = 'cosine')\n",
    "    X_train_KPCA = pca.fit_transform(X_train)\n",
    "    X_test_KPCA = pca.transform(X_test)\n",
    "    model = RandomForestClassifier()\n",
    "    model.fit(X_train_PCA, y_train)\n",
    "    y_pred = model.predict(X_test_PCA)\n",
    "    acc = accuracy_score(y_test, y_pred)\n",
    "    sar.update({'Number of components: ' + str(component) : acc})\n",
    "sar"
   ]
  },
  {
   "cell_type": "code",
   "execution_count": 17,
   "metadata": {},
   "outputs": [
    {
     "data": {
      "text/plain": [
       "Text(0.5, 1.0, 'Model performance with Kernel PCA applied')"
      ]
     },
     "execution_count": 17,
     "metadata": {},
     "output_type": "execute_result"
    },
    {
     "data": {
      "image/png": "[encoded data removed]",
      "text/plain": [
       "<Figure size 864x432 with 1 Axes>"
      ]
     },
     "metadata": {
      "needs_background": "light"
     },
     "output_type": "display_data"
    }
   ],
   "source": [
    "from matplotlib.ticker import MaxNLocator\n",
    "ax = plt.figure(figsize=(12, 6)).gca()\n",
    "ax.xaxis.set_major_locator(MaxNLocator(integer=True))\n",
    "sns.lineplot(y = list(sar.values()), x = range(1, 9))\n",
    "plt.xlabel('Number of components')\n",
    "plt.ylabel('Accuracy')\n",
    "plt.title('Model performance with Kernel PCA applied')"
   ]
  },
  {
   "cell_type": "markdown",
   "metadata": {},
   "source": [
    "In some individual cases dimensionality reduction improved the score by ~1%, but overall it didn't seem to improve the score drastically "
   ]
  },
  {
   "cell_type": "markdown",
   "metadata": {},
   "source": [
    "Let's try to improve our random forest classifier model"
   ]
  },
  {
   "cell_type": "code",
   "execution_count": 18,
   "metadata": {},
   "outputs": [
    {
     "name": "stderr",
     "output_type": "stream",
     "text": [
      "C:\\Anaconda\\lib\\site-packages\\sklearn\\model_selection\\_split.py:670: UserWarning: The least populated class in y has only 6 members, which is less than n_splits=10.\n",
      "  warnings.warn((\"The least populated class in y has only %d\"\n"
     ]
    },
    {
     "name": "stdout",
     "output_type": "stream",
     "text": [
      "Best Accuracy: 67.94 %\n",
      "Best Parameters: {'criterion': 'entropy', 'max_depth': 30, 'min_samples_split': 2, 'n_estimators': 140}\n"
     ]
    }
   ],
   "source": [
    "#Applying grid search to find the best model parameters\n",
    "classifier = RandomForestClassifier()\n",
    "classifier.fit(X_train, y_train)\n",
    "from sklearn.model_selection import GridSearchCV\n",
    "parameters = [{'n_estimators': [2, 10, 25, 50], 'criterion': ['gini'], 'max_depth' : [2, 5, 10, 20]},\n",
    "              {'n_estimators': [120, 130, 140, 150], 'criterion': ['entropy'], 'max_depth' : [20, 25, 30], 'min_samples_split' : [2, 3, 4, 5]}]\n",
    "grid_search = GridSearchCV(estimator = classifier,\n",
    "                           param_grid = parameters,\n",
    "                           scoring = 'accuracy',\n",
    "                           cv = 10,\n",
    "                           n_jobs = -1)\n",
    "grid_search.fit(X_train, y_train)\n",
    "best_accuracy = grid_search.best_score_\n",
    "best_parameters = grid_search.best_params_\n",
    "print(\"Best Accuracy: {:.2f} %\".format(best_accuracy*100))\n",
    "print(\"Best Parameters:\", best_parameters)"
   ]
  },
  {
   "cell_type": "markdown",
   "metadata": {},
   "source": [
    "After several grid search attempts the best parameters were these: {'criterion': 'entropy', 'max_depth': 25, 'min_samples_split': 4, 'n_estimators': 120}.\n",
    "Bearing this in mind, let's try to apply modified grid search again"
   ]
  },
  {
   "cell_type": "code",
   "execution_count": 19,
   "metadata": {},
   "outputs": [
    {
     "name": "stderr",
     "output_type": "stream",
     "text": [
      "C:\\Anaconda\\lib\\site-packages\\sklearn\\model_selection\\_split.py:670: UserWarning: The least populated class in y has only 6 members, which is less than n_splits=10.\n",
      "  warnings.warn((\"The least populated class in y has only %d\"\n"
     ]
    },
    {
     "name": "stdout",
     "output_type": "stream",
     "text": [
      "Best Accuracy: 67.40 %\n",
      "Best Parameters: {'max_leaf_nodes': None, 'max_samples': None, 'min_samples_leaf': 1}\n"
     ]
    }
   ],
   "source": [
    "#Applying grid search to find the best model parameters\n",
    "classifier = RandomForestClassifier(criterion = 'entropy', max_depth = 25, min_samples_split = 4, n_estimators = 120)\n",
    "classifier.fit(X_train, y_train)\n",
    "from sklearn.model_selection import GridSearchCV\n",
    "parameters = [{'min_samples_leaf': [1, 2, 3], 'max_leaf_nodes': [None, 1, 2], 'max_samples': [None, 1, 2]}]\n",
    "grid_search = GridSearchCV(estimator = classifier,\n",
    "                           param_grid = parameters,\n",
    "                           scoring = 'accuracy',\n",
    "                           cv = 10,\n",
    "                           n_jobs = -1)\n",
    "grid_search.fit(X_train, y_train)\n",
    "best_accuracy = grid_search.best_score_\n",
    "best_parameters = grid_search.best_params_\n",
    "print(\"Best Accuracy: {:.2f} %\".format(best_accuracy*100))\n",
    "print(\"Best Parameters:\", best_parameters)"
   ]
  },
  {
   "cell_type": "markdown",
   "metadata": {},
   "source": [
    "Looks like these parameters were fitted best at their default values"
   ]
  },
  {
   "cell_type": "code",
   "execution_count": 20,
   "metadata": {},
   "outputs": [
    {
     "data": {
      "text/plain": [
       "0.7030567685589519"
      ]
     },
     "execution_count": 20,
     "metadata": {},
     "output_type": "execute_result"
    }
   ],
   "source": [
    "#Let's train the model with the best parameters again\n",
    "model = RandomForestClassifier(criterion='entropy', max_depth=25, min_samples_split=4, n_estimators=120)\n",
    "model.fit(X_train, y_train)\n",
    "y_pred = model.predict(X_test)\n",
    "accuracy_score(y_test, y_pred)"
   ]
  },
  {
   "cell_type": "markdown",
   "metadata": {},
   "source": [
    "The best score I could get from this model was 71.6%"
   ]
  },
  {
   "cell_type": "code",
   "execution_count": 21,
   "metadata": {},
   "outputs": [
    {
     "name": "stderr",
     "output_type": "stream",
     "text": [
      "C:\\Anaconda\\lib\\site-packages\\sklearn\\model_selection\\_split.py:670: UserWarning: The least populated class in y has only 6 members, which is less than n_splits=10.\n",
      "  warnings.warn((\"The least populated class in y has only %d\"\n"
     ]
    },
    {
     "name": "stdout",
     "output_type": "stream",
     "text": [
      "Accuracy: 67.73 %\n",
      "Standard Deviation: 6.13 %\n"
     ]
    }
   ],
   "source": [
    "#Let's try to apply k-fold cross validation\n",
    "from sklearn.model_selection import cross_val_score\n",
    "accuracies = cross_val_score(estimator = model, X = X_train, y = y_train, cv = 10)\n",
    "print(\"Accuracy: {:.2f} %\".format(accuracies.mean()*100))\n",
    "print(\"Standard Deviation: {:.2f} %\".format(accuracies.std()*100))"
   ]
  },
  {
   "cell_type": "markdown",
   "metadata": {},
   "source": [
    "The k-fold cross validation didn't improve the score. The score of only ~70% may be due to small dataset and/or too few features"
   ]
  }
 ],
 "metadata": {
  "kernelspec": {
   "display_name": "Python 3",
   "language": "python",
   "name": "python3"
  },
  "language_info": {
   "codemirror_mode": {
    "name": "ipython",
    "version": 3
   },
   "file_extension": ".py",
   "mimetype": "text/x-python",
   "name": "python",
   "nbconvert_exporter": "python",
   "pygments_lexer": "ipython3",
   "version": "3.8.3"
  }
 },
 "nbformat": 4,
 "nbformat_minor": 4
}
